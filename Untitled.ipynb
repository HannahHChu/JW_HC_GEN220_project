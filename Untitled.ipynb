{
 "cells": [
  {
   "cell_type": "code",
   "execution_count": null,
   "metadata": {
    "collapsed": true
   },
   "outputs": [],
   "source": [
    "fasta = \"Escherichia_coli_str_k_12_substr_mg1655.ASM584v2.dna.chromosome.Chromosome.fa.gz\"\n",
    "fasta = *_genome.fna.gz\n",
    "\n",
    "# this is code which will parse FASTA files\n",
    "# define what a header looks like in FASTA format\n",
    "def isheader(line):\n",
    "    return line[0] == '>'\n",
    "\n",
    "def aspairs(f):\n",
    "    seq_id = ''\n",
    "    sequence = ''\n",
    "    for header,group in itertools.groupby(f, isheader):\n",
    "        if header:\n",
    "            line = next(group)\n",
    "            seq_id = line[1:].split()[0]\n",
    "        else:\n",
    "            sequence = ''.join(line.strip() for line in group)\n",
    "            yield seq_id, sequence\n",
    "            \n",
    "\n",
    "with gzip.open(fasta,\"rt\") as fasta_file:\n",
    "    parser = fp.Reader(fasta_file)\n",
    "    for seq in parser:\n",
    "        total = (len(seq.sequence_as_string()))\n",
    "    print(\"The total length of the $basename is {} bp ({} kb)\".format(total, total/1000), \".\")"
   ]
  }
 ],
 "metadata": {
  "kernelspec": {
   "display_name": "Python 3",
   "language": "python",
   "name": "python3"
  },
  "language_info": {
   "codemirror_mode": {
    "name": "ipython",
    "version": 3
   },
   "file_extension": ".py",
   "mimetype": "text/x-python",
   "name": "python",
   "nbconvert_exporter": "python",
   "pygments_lexer": "ipython3",
   "version": "3.4.5"
  }
 },
 "nbformat": 4,
 "nbformat_minor": 2
}
