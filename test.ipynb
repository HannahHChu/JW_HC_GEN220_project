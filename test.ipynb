{
 "cells": [
  {
   "cell_type": "code",
   "execution_count": 58,
   "metadata": {
    "scrolled": true
   },
   "outputs": [
    {
     "name": "stdout",
     "output_type": "stream",
     "text": [
      "['GCA_014465815.1_ASM1446581v1_genomic.fna.gz', 'GCA_000006295.1_JCVI_LOUSE_1.0_genomic.fna.gz', 'GCA_009650485.1_drosAlbom15112-1751.03v1_genomic.fna.gz', 'GCA_002313205.1_ASM231320v1_genomic.fna.gz', 'GCA_001676325.1_ASM167632v1_genomic.fna.gz', 'GCA_000376725.2_Lful_2.0_genomic.fna.gz', 'GCA_013340265.1_CopFor1.0_genomic.fna.gz', 'GCA_008973525.1_ASM897352v1_genomic.fna.gz', 'GCA_002928295.1_tcristinae_1.3c2_genomic.fna.gz', 'GCA_014529405.1_ASM1452940v1_genomic.fna.gz', 'GCA_000697945.4_Focc_3.0_genomic.fna.gz', 'GCA_001676355.1_B_61.contig_genomic.fna.gz', 'GCA_000507165.1_Edan_1.0_genomic.fna.gz', 'GCA_010014785.1_ASM1001478v1_genomic.fna.gz', 'GCA_003456935.1_Mhra_1.0_genomic.fna.gz', 'GCA_009617725.1_HT1_wtdbg2_racon_pilon_genomic.fna.gz', 'GCA_003254395.2_Amel_HAv3.1_genomic.fna.gz', 'GCA_008086715.1_ASM808671v1_genomic.fna.gz', 'GCA_002204515.1_AaegL5.0_genomic.fna.gz', 'GCA_012932325.1_TpBJ-2018v1_genomic.fna.gz', 'GCA_003287335.1_Ltum_v1.0_genomic.fna.gz', 'GCA_000281935.1_Memo_1.0_genomic.fna.gz', 'GCA_009859135.1_ASM985913v1_genomic.fna.gz', 'GCA_013436485.1_ASM1343648v1_genomic.fna.gz', 'GCA_015104395.1_ASM1510439v1_genomic.fna.gz', 'GCA_000516895.1_LocustGenomeV1_genomic.fna.gz', 'GCA_000262585.1_Msex_1.0_genomic.fna.gz', 'GCA_003426905.1_ASM342690v1_genomic.fna.gz', 'GCA_000325555.1_ASM32555v1_genomic.fna.gz', 'GCA_000002335.3_Tcas5.2_genomic.fna.gz', 'GCA_002778355.1_ASM277835v1_genomic.fna.gz', 'GCA_002939525.1_ASM293952v1_genomic.fna.gz', 'GCA_011762765.1_ASM1176276v1_genomic.fna.gz', 'GCA_000648695.2_Otau_2.0_genomic.fna.gz']\n",
      "['GCA_000648695.2_Otau_2.0_cds_from_genomic.fna.gz', 'GCA_015104395.1_ASM1510439v1_cds_from_genomic.fna.gz', 'GCA_000002335.3_Tcas5.2_cds_from_genomic.fna.gz', 'GCA_009617725.1_HT1_wtdbg2_racon_pilon_cds_from_genomic.fna.gz', 'GCA_003426905.1_ASM342690v1_cds_from_genomic.fna.gz', 'GCA_010014785.1_ASM1001478v1_cds_from_genomic.fna.gz', 'GCA_000281935.1_Memo_1.0_cds_from_genomic.fna.gz', 'GCA_003456935.1_Mhra_1.0_cds_from_genomic.fna.gz', 'GCA_002778355.1_ASM277835v1_cds_from_genomic.fna.gz', 'GCA_000516895.1_LocustGenomeV1_cds_from_genomic.fna.gz', 'GCA_009859135.1_ASM985913v1_cds_from_genomic.fna.gz', 'GCA_011762765.1_ASM1176276v1_cds_from_genomic.fna.gz', 'GCA_000006295.1_JCVI_LOUSE_1.0_cds_from_genomic.fna.gz', 'GCA_002313205.1_ASM231320v1_cds_from_genomic.fna.gz', 'GCA_003287335.1_Ltum_v1.0_cds_from_genomic.fna.gz', 'GCA_000262585.1_Msex_1.0_cds_from_genomic.fna.gz', 'GCA_012932325.1_TpBJ-2018v1_cds_from_genomic.fna.gz', 'GCA_013340265.1_CopFor1.0_cds_from_genomic.fna.gz', 'GCA_002939525.1_ASM293952v1_cds_from_genomic.fna.gz', 'GCA_003254395.2_Amel_HAv3.1_cds_from_genomic.fna.gz', 'GCA_008973525.1_ASM897352v1_cds_from_genomic.fna.gz', 'GCA_008086715.1_ASM808671v1_cds_from_genomic.fna.gz', 'GCA_001676355.1_B_61.contig_cds_from_genomic.fna.gz', 'GCA_001676325.1_ASM167632v1_cds_from_genomic.fna.gz', 'GCA_014529405.1_ASM1452940v1_cds_from_genomic.fna.gz', 'GCA_014465815.1_ASM1446581v1_cds_from_genomic.fna.gz', 'GCA_000376725.2_Lful_2.0_cds_from_genomic.fna.gz', 'GCA_000325555.1_ASM32555v1_cds_from_genomic.fna.gz', 'GCA_002204515.1_AaegL5.0_cds_from_genomic.fna.gz', 'GCA_009650485.1_drosAlbom15112-1751.03v1_cds_from_genomic.fna.gz', 'GCA_000507165.1_Edan_1.0_cds_from_genomic.fna.gz', 'GCA_013436485.1_ASM1343648v1_cds_from_genomic.fna.gz', 'GCA_000697945.4_Focc_3.0_cds_from_genomic.fna.gz', 'GCA_002928295.1_tcristinae_1.3c2_cds_from_genomic.fna.gz']\n"
     ]
    }
   ],
   "source": [
    "import os,gzip,itertools,csv,re,sys\n",
    "import fastaparser as fp\n",
    "import warnings\n",
    "import io\n",
    "\n",
    "warnings.filterwarnings(\"ignore\", category=DeprecationWarning)\n",
    "\n",
    "directory = 'seqs'\n",
    "genomesizes = []\n",
    "cdssizes = []\n",
    "            \n",
    "for filename in os.listdir(directory):\n",
    "    if filename.endswith(\"from_genomic.fna.gz\"):    \n",
    "        continue\n",
    "    if filename.endswith(\"_genomic.fna.gz\"):\n",
    "        genomesizes.append(filename)\n",
    "        \n",
    "print (genomesizes)\n",
    "\n",
    "with open(\"genomesizesOUT\", \"w\") as outfile:\n",
    "    outfile.write(\"\\n\".join(genomesizes))\n",
    "    \n",
    "for cdss in os.listdir(directory):\n",
    "    if cdss.endswith(\"from_genomic.fna.gz\"):    \n",
    "        cdssizes.append(cdss)\n",
    "\n",
    "print(cdssizes)\n",
    "with open(\"cdssizesOUT\", \"w\") as outfile:\n",
    "    outfile.write(\"\\n\".join(cdssizes))\n"
   ]
  },
  {
   "cell_type": "code",
   "execution_count": null,
   "metadata": {
    "collapsed": true
   },
   "outputs": [],
   "source": []
  },
  {
   "cell_type": "code",
   "execution_count": 55,
   "metadata": {},
   "outputs": [
    {
     "ename": "IndentationError",
     "evalue": "unindent does not match any outer indentation level (<tokenize>, line 13)",
     "output_type": "error",
     "traceback": [
      "\u001b[0;36m  File \u001b[0;32m\"<tokenize>\"\u001b[0;36m, line \u001b[0;32m13\u001b[0m\n\u001b[0;31m    yield seq_id, sequence\u001b[0m\n\u001b[0m    ^\u001b[0m\n\u001b[0;31mIndentationError\u001b[0m\u001b[0;31m:\u001b[0m unindent does not match any outer indentation level\n"
     ]
    }
   ],
   "source": [
    "import pandas\n",
    "from numpy import loadtxt\n",
    "\n",
    "d1 = loadtxt(\"genomesizesOUT.txt\", delimiter=\",\", unpack=False)"
   ]
  },
  {
   "cell_type": "code",
   "execution_count": null,
   "metadata": {
    "collapsed": true
   },
   "outputs": [],
   "source": []
  }
 ],
 "metadata": {
  "kernelspec": {
   "display_name": "Notebook1",
   "language": "python",
   "name": "myenv"
  },
  "language_info": {
   "codemirror_mode": {
    "name": "ipython",
    "version": 3
   },
   "file_extension": ".py",
   "mimetype": "text/x-python",
   "name": "python",
   "nbconvert_exporter": "python",
   "pygments_lexer": "ipython3",
   "version": "3.7.9"
  }
 },
 "nbformat": 4,
 "nbformat_minor": 2
}
